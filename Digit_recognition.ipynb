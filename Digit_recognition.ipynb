{
 "cells": [
  {
   "cell_type": "markdown",
   "metadata": {},
   "source": [
    "# Digit Recognition"
   ]
  },
  {
   "cell_type": "code",
   "execution_count": 9,
   "metadata": {},
   "outputs": [],
   "source": [
    "# Import Python libraries\n",
    "import numpy as np\n",
    "import matplotlib.pyplot as plt\n",
    "import math"
   ]
  },
  {
   "cell_type": "markdown",
   "metadata": {},
   "source": [
    "## Logistic Regression Model \n"
   ]
  },
  {
   "cell_type": "code",
   "execution_count": 3,
   "metadata": {},
   "outputs": [],
   "source": [
    "class LogisticRegression:\n",
    "    \"\"\"\n",
    "    Implements a Logistic Regression Classifier.\n",
    "    \"\"\"\n",
    "    \n",
    "    def __init__(self, input_dim, output_dim, inner):\n",
    "        \"\"\"\n",
    "        Initializes the parameters of the logistic regression classifer to \n",
    "        random values.\n",
    "        \n",
    "        args:\n",
    "            input_dim: Number of dimensions of the input data\n",
    "            output_dim: Number of classes\n",
    "            hidden_dim: Number of hidden nodes\n",
    "        \"\"\"\n",
    "        \n",
    "        self.theta01 = np.random.randn(input_dim, inner) / np.sqrt(input_dim)       \n",
    "        self.bias01 = np.zeros((1, inner))\n",
    "        \n",
    "        self.theta12 = np.random.randn(inner, output_dim) / np.sqrt(inner) \n",
    "        self.bias12 = np.zeros((1, output_dim))\n",
    "        \n",
    "    #--------------------------------------------------------------------------\n",
    "    \n",
    "    def compute_cost(self,X, y):\n",
    "        \"\"\"\n",
    "        Computes the total cost on the dataset.\n",
    "        \n",
    "        args:\n",
    "            X: Data array\n",
    "            y: Labels corresponding to input data\n",
    "        \n",
    "        returns:\n",
    "            cost: average cost per data sample\n",
    "        \"\"\"\n",
    "        num_examples = np.shape(X)[0]\n",
    "        z = np.dot(X,self.theta1) + self.bias1\n",
    "        a = np.tanh(z)\n",
    "        z2 = np.dot(a, self.theta2) + self.bias2\n",
    "        exp_z2 = np.exp(z2)\n",
    "        softmax_scores = exp_z2 / np.sum(exp_z2, axis=1, keepdims=True)\n",
    "        \n",
    "        one_hot_y = np.zeros((num_examples,np.max(y)+1))\n",
    "        logloss = np.zeros((num_examples,))        \n",
    "        for i in range(np.shape(X)[0]):\n",
    "            one_hot_y[i,y[i]] = 1\n",
    "            logloss[i] = -np.sum(np.log(softmax_scores[i,:]) * one_hot_y[i,:])\n",
    "        data_loss = np.sum(logloss)\n",
    "        return 1./num_examples * data_loss\n",
    "\n",
    "    \n",
    "    #--------------------------------------------------------------------------\n",
    " \n",
    "    def predict(self,X):\n",
    "        \"\"\"\n",
    "        Makes a prediction based on current model parameters.\n",
    "        \n",
    "        args:\n",
    "            X: Data array\n",
    "            \n",
    "        returns:\n",
    "            predictions: array of predicted labels\n",
    "        \"\"\"\n",
    "        z01 = np.dot(X,self.theta01) + self.bias01\n",
    "        X1 = np.tanh(z01)\n",
    "        z12 = np.dot(X1, self.theta12) + self.bias12\n",
    "        exp_z = np.exp(z12)\n",
    "        softmax_scores = exp_z / np.sum(exp_z, axis=1, keepdims=True)\n",
    "        predictions = np.argmax(softmax_scores, axis = 1)\n",
    "        return predictions\n",
    "        \n",
    "    #--------------------------------------------------------------------------\n",
    "   \n",
    "    def fit(self,X,y,num_epochs,alpha=0.01):     \n",
    "        \n",
    "        for epoch in range(0, num_epochs):\n",
    "\n",
    "            # Forward propagation\n",
    "            z01 = np.dot(X, self.theta01) + self.bias01\n",
    "            X1 = np.tanh(z01)\n",
    "            z12 = np.dot(X1, self.theta12) + self.bias12\n",
    "            exp_z = np.exp(z12)\n",
    "            softmax_scores = exp_z / np.sum(exp_z, axis=1, keepdims=True)          \n",
    "                                                                       \n",
    "                                                                                            \n",
    "            # Backpropagation\n",
    "            beta2 = np.zeros_like(softmax_scores)\n",
    "            one_hot_y2 = np.zeros_like(softmax_scores)\n",
    "            for i in range(X.shape[0]):\n",
    "                one_hot_y2[i, y[i]] = 1\n",
    "            beta2 = softmax_scores - one_hot_y2\n",
    "                                       \n",
    "            \n",
    "            \n",
    "            # Compute gradients of model parameters\n",
    "            dtheta2 = np.dot(X1.T, beta2)\n",
    "            dbias2 = np.sum(beta2, axis = 0, keepdims=True)\n",
    "            \n",
    "            delta2 = np.dot(beta2, self.theta12.T) * (1 - X1*X1)\n",
    "            dtheta1 = np.dot(X.T, delta2)                                   \n",
    "            dbias1 = np.sum(delta2, axis = 0)\n",
    "        \n",
    "            # Gradient descent parameter update\n",
    "            self.theta01 -= alpha * dtheta1\n",
    "            self.bias01  -= alpha * dbias1\n",
    "            self.theta12 -= alpha * dtheta2\n",
    "            self.bias12  -= alpha * dbias2\n",
    "        return 0\n"
   ]
  },
  {
   "cell_type": "markdown",
   "metadata": {},
   "source": [
    "## Initialization"
   ]
  },
  {
   "cell_type": "code",
   "execution_count": 4,
   "metadata": {},
   "outputs": [],
   "source": [
    "#1. Load data\n",
    "X_train = np.genfromtxt('DATA/Digit_X_train.csv', delimiter=',')\n",
    "y_train = np.genfromtxt('DATA/Digit_y_train.csv', delimiter=',').astype(np.int64)\n",
    "X_test = np.genfromtxt('DATA/Digit_X_test.csv', delimiter=',')\n",
    "y_test = np.genfromtxt('DATA/Digit_y_test.csv', delimiter=',').astype(np.int64)"
   ]
  },
  {
   "cell_type": "code",
   "execution_count": 85,
   "metadata": {},
   "outputs": [],
   "source": [
    "#2. Initialize model\n",
    "input_dim = np.shape(X_train)[1]\n",
    "output_dim = np.max(y_train) + 1\n",
    "logreg = LogisticRegression(input_dim, output_dim, 40)"
   ]
  },
  {
   "cell_type": "markdown",
   "metadata": {},
   "source": [
    "## Train digit recognition model"
   ]
  },
  {
   "cell_type": "code",
   "execution_count": 86,
   "metadata": {},
   "outputs": [
    {
     "data": {
      "text/plain": [
       "0"
      ]
     },
     "execution_count": 86,
     "metadata": {},
     "output_type": "execute_result"
    }
   ],
   "source": [
    "#4. Train the model\n",
    "logreg.fit(X_train,y_train,1000,alpha=0.001)"
   ]
  },
  {
   "cell_type": "markdown",
   "metadata": {},
   "source": [
    "## Choose learning rate"
   ]
  },
  {
   "cell_type": "code",
   "execution_count": 94,
   "metadata": {},
   "outputs": [],
   "source": [
    "# step decay to find optimal learning rate \n",
    "def step_decay(epoch):\n",
    "   initial_lrate = 0.001\n",
    "   drop = 0.5\n",
    "   epochs_drop = 10.0\n",
    "   lrate = initial_lrate * math.pow(drop,  \n",
    "           math.floor((1+epoch)/epochs_drop))\n",
    "   return lrate"
   ]
  },
  {
   "cell_type": "code",
   "execution_count": 95,
   "metadata": {},
   "outputs": [],
   "source": [
    "lrAdaptive = LogisticRegression(input_dim,output_dim,inner=40)\n",
    "accs = []\n",
    "lrs = []\n",
    "for i in range(50):\n",
    "    lr = step_decay(i)\n",
    "    lrAdaptive.fit(X_train,y_train,500,lr)\n",
    "    acc = 0\n",
    "    y_pred = lrAdaptive.predict(X_test)\n",
    "    con_mat = np.zeros((output_dim, output_dim))\n",
    "    for i in range(len(y_pred)):\n",
    "        con_mat[y_pred[i], y_test[i]] += 1\n",
    "        if y_test[i] == y_pred[i]:\n",
    "            acc += 1\n",
    "    acc = acc/len(y_pred)\n",
    "    lrs.append(lr)\n",
    "    accs.append(acc)"
   ]
  },
  {
   "cell_type": "code",
   "execution_count": 96,
   "metadata": {},
   "outputs": [
    {
     "data": {
      "image/png": "[encoded data removed]",
      "text/plain": [
       "<Figure size 720x432 with 1 Axes>"
      ]
     },
     "metadata": {},
     "output_type": "display_data"
    }
   ],
   "source": [
    "plt.style.use('seaborn-darkgrid')\n",
    "plt.figure(figsize=(10,6))\n",
    "plt.title('accuracy with different learning rate using Step decay')\n",
    "plt.xlabel('learning rate')\n",
    "plt.ylabel('Accuracy')\n",
    "x_ticks = np.arange(0,0.001,0.0001)\n",
    "plt.xticks(x_ticks)\n",
    "plt.plot(lrs,accs,'r')\n",
    "plt.show()"
   ]
  },
  {
   "cell_type": "markdown",
   "metadata": {},
   "source": [
    "## Model Evaluation"
   ]
  },
  {
   "cell_type": "code",
   "execution_count": 87,
   "metadata": {},
   "outputs": [
    {
     "name": "stdout",
     "output_type": "stream",
     "text": [
      "ACCURACY:  0.9488320355951056\n",
      "CONFUSION MATRIX: \n",
      " [[86.  0.  0.  0.  0.  0.  0.  0.  0.  0.]\n",
      " [ 0. 82.  0.  0.  1.  0.  1.  0.  4.  0.]\n",
      " [ 0.  0. 85.  0.  0.  0.  0.  0.  0.  0.]\n",
      " [ 0.  1.  1. 80.  0.  0.  0.  0.  0.  1.]\n",
      " [ 1.  0.  0.  0. 86.  0.  0.  0.  0.  0.]\n",
      " [ 0.  0.  0.  4.  0. 88.  0.  1.  2.  2.]\n",
      " [ 1.  0.  0.  0.  2.  1. 90.  0.  0.  0.]\n",
      " [ 0.  0.  0.  1.  0.  0.  0. 86.  0.  1.]\n",
      " [ 0.  2.  0.  6.  0.  0.  0.  0. 82.  0.]\n",
      " [ 0.  6.  0.  0.  3.  2.  0.  2.  0. 88.]]\n"
     ]
    }
   ],
   "source": [
    "#5. compute accuracy and confusion matrix\n",
    "acc = 0\n",
    "y_pred = logreg.predict(X_test)\n",
    "con_mat = np.zeros((output_dim, output_dim))\n",
    "for i in range(len(y_pred)):\n",
    "    con_mat[y_pred[i], y_test[i]] += 1\n",
    "    if y_test[i] == y_pred[i]:\n",
    "        acc += 1\n",
    "acc = acc/len(y_pred)\n",
    "print ('ACCURACY: ', acc)\n",
    "print ('CONFUSION MATRIX: \\n', con_mat)"
   ]
  }
 ],
 "metadata": {
  "kernelspec": {
   "display_name": "Python 3",
   "language": "python",
   "name": "python3"
  },
  "language_info": {
   "codemirror_mode": {
    "name": "ipython",
    "version": 3
   },
   "file_extension": ".py",
   "mimetype": "text/x-python",
   "name": "python",
   "nbconvert_exporter": "python",
   "pygments_lexer": "ipython3",
   "version": "3.6.5"
  }
 },
 "nbformat": 4,
 "nbformat_minor": 2
}
